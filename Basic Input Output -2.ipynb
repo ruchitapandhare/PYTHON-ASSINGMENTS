{
 "cells": [
  {
   "cell_type": "markdown",
   "id": "2e6878bf",
   "metadata": {},
   "source": [
    "## 1. Write a program to calculate the Areas of following shapes"
   ]
  },
  {
   "cell_type": "markdown",
   "id": "bf3f66f8",
   "metadata": {},
   "source": [
    "### a. Rectangle"
   ]
  },
  {
   "cell_type": "code",
   "execution_count": 1,
   "id": "edbc4b5e",
   "metadata": {},
   "outputs": [
    {
     "name": "stdout",
     "output_type": "stream",
     "text": [
      "Enter the length of rectangle = 1500\n",
      "Enter the breath of rectangle = 400\n",
      "Area of Rectangle is 600000\n"
     ]
    }
   ],
   "source": [
    "l=int(input('Enter the length of rectangle = '))\n",
    "b=int(input('Enter the breath of rectangle = '))\n",
    "area=l*b\n",
    "print('Area of Rectangle is',area)"
   ]
  },
  {
   "cell_type": "markdown",
   "id": "0db83b44",
   "metadata": {},
   "source": [
    "### b. Square "
   ]
  },
  {
   "cell_type": "code",
   "execution_count": 2,
   "id": "4cf5d1f8",
   "metadata": {},
   "outputs": [
    {
     "name": "stdout",
     "output_type": "stream",
     "text": [
      "Enter the length of side = 4\n",
      "Area of square is 16\n"
     ]
    }
   ],
   "source": [
    "side=int(input('Enter the length of side = '))\n",
    "area=side**2\n",
    "print('Area of square is',area)"
   ]
  },
  {
   "cell_type": "markdown",
   "id": "fa377936",
   "metadata": {},
   "source": [
    "### c.Triangle"
   ]
  },
  {
   "cell_type": "code",
   "execution_count": 3,
   "id": "16fd8697",
   "metadata": {},
   "outputs": [
    {
     "name": "stdout",
     "output_type": "stream",
     "text": [
      "Enter the breadth of triangle = 10\n",
      "Enter the height of triangle = 20\n",
      "Area of triangle is  100.0\n"
     ]
    }
   ],
   "source": [
    "b=int(input('Enter the breadth of triangle = '))\n",
    "h=int(input('Enter the height of triangle = '))\n",
    "area=0.5*b*h\n",
    "print('Area of triangle is ',area)"
   ]
  },
  {
   "cell_type": "markdown",
   "id": "2994bad4",
   "metadata": {},
   "source": [
    "### d.Circle"
   ]
  },
  {
   "cell_type": "code",
   "execution_count": 4,
   "id": "ac3399b5",
   "metadata": {},
   "outputs": [
    {
     "name": "stdout",
     "output_type": "stream",
     "text": [
      "Enter the radius of a circle = 20\n",
      "Area of circle 1256.0\n"
     ]
    }
   ],
   "source": [
    "r=int(input('Enter the radius of a circle = '))\n",
    "area=3.14*r**2\n",
    "print('Area of circle',area)"
   ]
  },
  {
   "cell_type": "markdown",
   "id": "232ee550",
   "metadata": {},
   "source": [
    "### 2.  Write a program to calculate net salary of an employeewhose basic salary is entered by the user,DA is 5% of basic salary,HRA is 7% of basic salary and PF is 3% of Basic Salary."
   ]
  },
  {
   "cell_type": "code",
   "execution_count": 5,
   "id": "ed8d7750",
   "metadata": {},
   "outputs": [
    {
     "name": "stdout",
     "output_type": "stream",
     "text": [
      "Enter the base salary = 28000\n",
      "Net Salary = 30478.0\n"
     ]
    }
   ],
   "source": [
    "basic=int(input('Enter the base salary = '))\n",
    "da=float(basic*0.05)\n",
    "hra=float(basic*0.07)\n",
    "pf=float((basic+da)*0.03)\n",
    "Netsalary=float(basic+da+hra)\n",
    "grosspay=float(Netsalary-pf)\n",
    "print('Net Salary =',grosspay)"
   ]
  },
  {
   "cell_type": "markdown",
   "id": "add58471",
   "metadata": {},
   "source": [
    "### 3. Write a program to calculate the Power of a number"
   ]
  },
  {
   "cell_type": "code",
   "execution_count": 7,
   "id": "fc3ce238",
   "metadata": {},
   "outputs": [
    {
     "name": "stdout",
     "output_type": "stream",
     "text": [
      "Enter the number = 2\n",
      "Power = 4\n",
      "The power of number= 16\n"
     ]
    }
   ],
   "source": [
    "a=int(input('Enter the number = '))\n",
    "b=int(input('Power = '))\n",
    "c=a**b\n",
    "print('The power of number=',c)"
   ]
  },
  {
   "cell_type": "markdown",
   "id": "f55e6b37",
   "metadata": {},
   "source": [
    "### 4. Write a program to get the Python version you are using."
   ]
  },
  {
   "cell_type": "code",
   "execution_count": 9,
   "id": "4e6c4b05",
   "metadata": {},
   "outputs": [
    {
     "name": "stdout",
     "output_type": "stream",
     "text": [
      "3.9.13 (main, Aug 25 2022, 23:51:50) [MSC v.1916 64 bit (AMD64)]\n"
     ]
    }
   ],
   "source": [
    "import sys\n",
    "print(sys.version)"
   ]
  },
  {
   "cell_type": "code",
   "execution_count": null,
   "id": "12d13b4a",
   "metadata": {},
   "outputs": [],
   "source": []
  }
 ],
 "metadata": {
  "kernelspec": {
   "display_name": "Python 3 (ipykernel)",
   "language": "python",
   "name": "python3"
  },
  "language_info": {
   "codemirror_mode": {
    "name": "ipython",
    "version": 3
   },
   "file_extension": ".py",
   "mimetype": "text/x-python",
   "name": "python",
   "nbconvert_exporter": "python",
   "pygments_lexer": "ipython3",
   "version": "3.9.13"
  }
 },
 "nbformat": 4,
 "nbformat_minor": 5
}
