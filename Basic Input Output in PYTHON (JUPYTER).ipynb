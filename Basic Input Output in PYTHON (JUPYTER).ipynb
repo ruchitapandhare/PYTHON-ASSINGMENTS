{
 "cells": [
  {
   "cell_type": "markdown",
   "id": "acb349ab",
   "metadata": {},
   "source": [
    "## 1. Write a program to print yourself introduction"
   ]
  },
  {
   "cell_type": "code",
   "execution_count": 1,
   "id": "d5b733db",
   "metadata": {},
   "outputs": [
    {
     "name": "stdout",
     "output_type": "stream",
     "text": [
      "My name is Vishal Tad.\n",
      "I have completed my graduation in Mechanical Engineering.\n",
      "After that i have done my post graduate diploma in Banking and Finance.\n",
      "I have an experience in ICICI Bank as a Deputy Manager\n",
      "Reading is my hobby.\n"
     ]
    }
   ],
   "source": [
    "print(\"My name is Vishal Tad.\")\n",
    "print(\"I have completed my graduation in Mechanical Engineering.\")\n",
    "print(\"After that i have done my post graduate diploma in Banking and Finance.\")\n",
    "print(\"I have an experience in ICICI Bank as a Deputy Manager\")\n",
    "print(\"Reading is my hobby.\")"
   ]
  },
  {
   "cell_type": "markdown",
   "id": "fdd7e59f",
   "metadata": {},
   "source": [
    "## Write programmes to perform mathematical operations"
   ]
  },
  {
   "cell_type": "markdown",
   "id": "035d5e79",
   "metadata": {},
   "source": [
    "## Write a program to perform Addition"
   ]
  },
  {
   "cell_type": "code",
   "execution_count": 2,
   "id": "b7462a29",
   "metadata": {},
   "outputs": [
    {
     "name": "stdout",
     "output_type": "stream",
     "text": [
      "First number = 5\n",
      "Second number = 5\n",
      "sum is 10\n"
     ]
    }
   ],
   "source": [
    "a=int(input('First number = '))\n",
    "b=int(input('Second number = '))\n",
    "sum= a+b\n",
    "print(\"sum is\",sum)"
   ]
  },
  {
   "cell_type": "markdown",
   "id": "3e3aa799",
   "metadata": {},
   "source": [
    "## Write a program to perform Subtraction"
   ]
  },
  {
   "cell_type": "code",
   "execution_count": 4,
   "id": "277c23d9",
   "metadata": {},
   "outputs": [
    {
     "name": "stdout",
     "output_type": "stream",
     "text": [
      "Enter the number = 5\n",
      "enter the number = 4\n",
      "subtraction is  1\n"
     ]
    }
   ],
   "source": [
    "a=int(input('Enter the number = '))\n",
    "b=int(input('enter the number = '))\n",
    "subtraction = a-b\n",
    "print(\"subtraction is \", subtraction)"
   ]
  },
  {
   "cell_type": "markdown",
   "id": "cdc0aa17",
   "metadata": {},
   "source": [
    "## Write a program to perform Multiplication"
   ]
  },
  {
   "cell_type": "code",
   "execution_count": 1,
   "id": "1d915592",
   "metadata": {},
   "outputs": [
    {
     "name": "stdout",
     "output_type": "stream",
     "text": [
      "Enter the number = 5\n",
      "Enter the number = 4\n",
      "Multiplication is  20\n"
     ]
    }
   ],
   "source": [
    "a=int(input('Enter the number = '))\n",
    "b=int(input('Enter the number = '))\n",
    "Multiplication=a*b\n",
    "print('Multiplication is ',Multiplication)"
   ]
  },
  {
   "cell_type": "markdown",
   "id": "287f059f",
   "metadata": {},
   "source": [
    "## Write a program to perform Division"
   ]
  },
  {
   "cell_type": "code",
   "execution_count": 2,
   "id": "39bc486b",
   "metadata": {},
   "outputs": [
    {
     "name": "stdout",
     "output_type": "stream",
     "text": [
      "Enter the number = 10\n",
      "Enter the number = 5\n",
      "Division is  2.0\n"
     ]
    }
   ],
   "source": [
    "a=int(input('Enter the number = '))\n",
    "b=int(input('Enter the number = '))\n",
    "Division=a/b\n",
    "print('Division is ',Division)"
   ]
  },
  {
   "cell_type": "markdown",
   "id": "4a43e1c2",
   "metadata": {},
   "source": [
    "## Write a program to perform Modulus"
   ]
  },
  {
   "cell_type": "code",
   "execution_count": 3,
   "id": "41399bff",
   "metadata": {},
   "outputs": [
    {
     "name": "stdout",
     "output_type": "stream",
     "text": [
      "Enter the number = 11\n",
      "Enter the number = 5\n",
      "Modulus is 1\n"
     ]
    }
   ],
   "source": [
    "a=int(input('Enter the number = '))\n",
    "b=int(input('Enter the number = '))\n",
    "modulus=a%b\n",
    "print('Modulus is',modulus)"
   ]
  },
  {
   "cell_type": "markdown",
   "id": "512fc9f1",
   "metadata": {},
   "source": [
    "## Write a program to perform Exponent"
   ]
  },
  {
   "cell_type": "code",
   "execution_count": 4,
   "id": "f9dceafb",
   "metadata": {},
   "outputs": [
    {
     "name": "stdout",
     "output_type": "stream",
     "text": [
      "Enter the number = 4\n",
      "Enter the number = 3\n",
      "Exponent is 64\n"
     ]
    }
   ],
   "source": [
    "a=int(input('Enter the number = '))\n",
    "b=int(input('Enter the number = '))\n",
    "Exponent=a**b\n",
    "print('Exponent is',Exponent)"
   ]
  }
 ],
 "metadata": {
  "kernelspec": {
   "display_name": "Python 3 (ipykernel)",
   "language": "python",
   "name": "python3"
  },
  "language_info": {
   "codemirror_mode": {
    "name": "ipython",
    "version": 3
   },
   "file_extension": ".py",
   "mimetype": "text/x-python",
   "name": "python",
   "nbconvert_exporter": "python",
   "pygments_lexer": "ipython3",
   "version": "3.9.13"
  }
 },
 "nbformat": 4,
 "nbformat_minor": 5
}
